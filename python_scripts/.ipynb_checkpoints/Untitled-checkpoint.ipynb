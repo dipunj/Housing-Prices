{
 "cells": [
  {
   "cell_type": "code",
   "execution_count": 8,
   "metadata": {
    "collapsed": true
   },
   "outputs": [],
   "source": [
    "from datetime import datetime\n",
    "import pandas as pd\n",
    "import numpy as np"
   ]
  },
  {
   "cell_type": "code",
   "execution_count": 9,
   "metadata": {
    "collapsed": true
   },
   "outputs": [],
   "source": [
    "\n",
    "# classifies the city according to their starting lat,long\n",
    "\n",
    "def classify_city(s_lat, s_lon):\n",
    "    if abs(s_lat - 13) <= 1:\n",
    "        if abs(s_lon - 80.5) <= 1:\n",
    "            return 0  # delhi\n",
    "        elif abs(s_lon - 77.5) <= 1:\n",
    "            return 1  # banglore\n",
    "    elif abs(s_lon - 72.5) <= 1:\n",
    "        return 2  # chennai\n",
    "    elif abs(s_lat - 25.5) <= 1:\n",
    "        return 3  # lucknow\n",
    "    elif abs(s_lon - 88.5) <= 1:\n",
    "        return 4  # bombay\n",
    "    elif abs(s_lat - 28.5) <= 1:\n",
    "        return 5  # kolkata\n",
    "    else:\n",
    "        return None\n",
    "    \n",
    "pass\n",
    "\n",
    "\n",
    "# if the vehicle is air conditioned \n",
    "def isAC(vehicle):\n",
    "\n",
    "    if vehicle == 1 or vehicle == 2 or vehicle == 4:\n",
    "        return 1\n",
    "    else:\n",
    "        return 0\n",
    "    \n",
    "pass\n",
    "\n",
    "# is the mode of transport is public\n",
    "def isPublic(vehicle):\n",
    "    if vehicle == 0 or vehicle == 3 or vehicle == 5:\n",
    "        return 1\n",
    "    else:\n",
    "        return 0\n",
    "\n",
    "\n",
    "pass\n",
    "\n",
    "\n",
    "# Returns mean latitude of the city\n",
    "def findMean_lat(city):\n",
    "    if city == 0 or city == 1:\n",
    "        return 13\n",
    "    elif city == 2:\n",
    "        return 19.5\n",
    "    elif city == 3:\n",
    "        return 25.5\n",
    "    elif city == 4:\n",
    "        return 22.5\n",
    "    elif city == 5:\n",
    "        return 28.5\n",
    "\n",
    "\n",
    "pass\n",
    "\n",
    "\n",
    "# Returns mean longitude of the city\n",
    "def findMean_long(city):\n",
    "    if city == 0:\n",
    "        return 80.5\n",
    "    elif city == 1:\n",
    "        return 77.5\n",
    "    elif city == 2:\n",
    "        return 72.5\n",
    "    elif city == 3:\n",
    "        return 83\n",
    "    elif city == 4:\n",
    "        return 88.5\n",
    "    elif city == 5:\n",
    "        return 77\n",
    "\n",
    "\n",
    "pass"
   ]
  },
  {
   "cell_type": "code",
   "execution_count": 10,
   "metadata": {
    "collapsed": true
   },
   "outputs": [],
   "source": [
    "def preprocess_city(df, mapping):\n",
    "    df = df.drop(df[df.STARTING_LATITUDE.isnull() & df.DESTINATION_LATITUDE.isnull()].index)\n",
    "    \n",
    "    df.STARTING_LATITUDE.fillna(df.DESTINATION_LATITUDE, inplace=True)\n",
    "    df.STARTING_LONGITUDE.fillna(df.DESTINATION_LONGITUDE, inplace=True)\n",
    "    df.DESTINATION_LATITUDE.fillna(df.STARTING_LATITUDE, inplace=True)\n",
    "    df.DESTINATION_LONGITUDE.fillna(df.STARTING_LONGITUDE, inplace=True)\n",
    "    df.fillna(-100, inplace=True)\n",
    "    \n",
    "    d_format = '%Y-%m-%d %H:%M:%S'\n",
    "    \n",
    "    df['TIMESTAMP'] = [datetime.strptime(x, d_format) for x in df['TIMESTAMP']]\n",
    "    df['MONTH']     = df['TIMESTAMP'].apply(lambda x: x.month)\n",
    "    df['DAY']       = df['TIMESTAMP'].apply(lambda x: x.day)\n",
    "    df['YEAR']      = df['TIMESTAMP'].apply(lambda x: x.year)\n",
    "    df['TIME']      = df['TIMESTAMP'].apply(lambda x: x.strftime(\"%H%M\"))\n",
    "    df['weekday']   = df['TIMESTAMP'].apply(lambda x: x.dayofweek)\n",
    "    df['TIME_AM']   = df['TIMESTAMP'].apply(lambda x: 0 if x.strftime(\"%p\") == \"AM\" else 1)\n",
    "    df.TIMESTAMP = df['TIMESTAMP'].apply(lambda x: x.timestamp())\n",
    "\n",
    "    df.VEHICLE_TYPE = df.VEHICLE_TYPE.str.lower()\n",
    "    df = df.replace({\"VEHICLE_TYPE\": mapping})\n",
    "    df['bus'] = df.apply(lambda x: 1\n",
    "                         if (x['VEHICLE_TYPE'] == 0 or x['VEHICLE_TYPE'] == 4 or x['VEHICLE_TYPE'] == 5)\n",
    "                         else 0, axis=1)\n",
    "    df['taxi']      = df.apply(lambda x: 1 if x['VEHICLE_TYPE'] == 6 else 0, axis=1)\n",
    "    df['cooling']   = df.apply(lambda x: isAC(x['VEHICLE_TYPE']), axis=1)\n",
    "    df['public']    = df.apply(lambda x: isPublic(x['VEHICLE_TYPE']), axis=1)\n",
    "    df['city']      = df.apply(lambda x: classify_city(x['STARTING_LATITUDE'], x['STARTING_LONGITUDE']), axis=1)\n",
    "    df['mean_lat']  = df['city'].apply(lambda x: findMean_lat(x))\n",
    "    df['mean_long'] = df['city'].apply(lambda x: findMean_long(x))\n",
    "    \n",
    "    df.STARTING_LONGITUDE    = df.apply(lambda x: x['mean_long'] - x['STARTING_LONGITUDE'], axis=1)\n",
    "    df.DESTINATION_LONGITUDE = df.apply(lambda x: x['mean_long'] - x['DESTINATION_LONGITUDE'], axis=1)\n",
    "    df.STARTING_LATITUDE     = df.apply(lambda x: x['mean_lat'] - x['STARTING_LATITUDE'], axis=1)\n",
    "    df.DESTINATION_LATITUDE  = df.apply(lambda x: x['mean_lat'] - x['DESTINATION_LATITUDE'], axis=1)\n",
    "    \n",
    "    df.reset_index(drop=True)\n",
    "    return df\n",
    "\n",
    "\n",
    "pass\n"
   ]
  },
  {
   "cell_type": "code",
   "execution_count": 11,
   "metadata": {
    "collapsed": true
   },
   "outputs": [],
   "source": [
    "# mapping(string --> integer) for VEHICLE_TYPE column\n",
    "def create_mapping(train_col):\n",
    "    keys = train_col.str.lower().unique().tolist()\n",
    "    return dict(zip(keys, range(len(keys))))\n",
    "\n",
    "\n",
    "pass"
   ]
  },
  {
   "cell_type": "code",
   "execution_count": 12,
   "metadata": {},
   "outputs": [
    {
     "ename": "FileNotFoundError",
     "evalue": "File b'intracity_fare_train.csv' does not exist",
     "output_type": "error",
     "traceback": [
      "\u001b[0;31m---------------------------------------------------------------------------\u001b[0m",
      "\u001b[0;31mFileNotFoundError\u001b[0m                         Traceback (most recent call last)",
      "\u001b[0;32m<ipython-input-12-1a827eb2b247>\u001b[0m in \u001b[0;36m<module>\u001b[0;34m()\u001b[0m\n\u001b[1;32m      1\u001b[0m \u001b[0;31m# importing data\u001b[0m\u001b[0;34m\u001b[0m\u001b[0;34m\u001b[0m\u001b[0m\n\u001b[0;32m----> 2\u001b[0;31m \u001b[0mtrain\u001b[0m \u001b[0;34m=\u001b[0m \u001b[0mpd\u001b[0m\u001b[0;34m.\u001b[0m\u001b[0mread_csv\u001b[0m\u001b[0;34m(\u001b[0m\u001b[0;34m'intracity_fare_train.csv'\u001b[0m\u001b[0;34m)\u001b[0m\u001b[0;34m\u001b[0m\u001b[0m\n\u001b[0m\u001b[1;32m      3\u001b[0m \u001b[0mtest\u001b[0m \u001b[0;34m=\u001b[0m \u001b[0mpd\u001b[0m\u001b[0;34m.\u001b[0m\u001b[0mread_csv\u001b[0m\u001b[0;34m(\u001b[0m\u001b[0;34m'intracity_fare_test.csv'\u001b[0m\u001b[0;34m)\u001b[0m\u001b[0;34m\u001b[0m\u001b[0m\n\u001b[1;32m      4\u001b[0m \u001b[0mid_vec\u001b[0m \u001b[0;34m=\u001b[0m \u001b[0mnp\u001b[0m\u001b[0;34m.\u001b[0m\u001b[0marray\u001b[0m\u001b[0;34m(\u001b[0m\u001b[0mtest\u001b[0m\u001b[0;34m.\u001b[0m\u001b[0mloc\u001b[0m\u001b[0;34m[\u001b[0m\u001b[0;34m:\u001b[0m\u001b[0;34m,\u001b[0m \u001b[0mtest\u001b[0m\u001b[0;34m.\u001b[0m\u001b[0mcolumns\u001b[0m \u001b[0;34m==\u001b[0m \u001b[0;34m'ID'\u001b[0m\u001b[0;34m]\u001b[0m\u001b[0;34m)\u001b[0m\u001b[0;34m\u001b[0m\u001b[0m\n",
      "\u001b[0;32m/usr/lib64/python3.6/site-packages/pandas/io/parsers.py\u001b[0m in \u001b[0;36mparser_f\u001b[0;34m(filepath_or_buffer, sep, delimiter, header, names, index_col, usecols, squeeze, prefix, mangle_dupe_cols, dtype, engine, converters, true_values, false_values, skipinitialspace, skiprows, nrows, na_values, keep_default_na, na_filter, verbose, skip_blank_lines, parse_dates, infer_datetime_format, keep_date_col, date_parser, dayfirst, iterator, chunksize, compression, thousands, decimal, lineterminator, quotechar, quoting, escapechar, comment, encoding, dialect, tupleize_cols, error_bad_lines, warn_bad_lines, skipfooter, skip_footer, doublequote, delim_whitespace, as_recarray, compact_ints, use_unsigned, low_memory, buffer_lines, memory_map, float_precision)\u001b[0m\n\u001b[1;32m    653\u001b[0m                     skip_blank_lines=skip_blank_lines)\n\u001b[1;32m    654\u001b[0m \u001b[0;34m\u001b[0m\u001b[0m\n\u001b[0;32m--> 655\u001b[0;31m         \u001b[0;32mreturn\u001b[0m \u001b[0m_read\u001b[0m\u001b[0;34m(\u001b[0m\u001b[0mfilepath_or_buffer\u001b[0m\u001b[0;34m,\u001b[0m \u001b[0mkwds\u001b[0m\u001b[0;34m)\u001b[0m\u001b[0;34m\u001b[0m\u001b[0m\n\u001b[0m\u001b[1;32m    656\u001b[0m \u001b[0;34m\u001b[0m\u001b[0m\n\u001b[1;32m    657\u001b[0m     \u001b[0mparser_f\u001b[0m\u001b[0;34m.\u001b[0m\u001b[0m__name__\u001b[0m \u001b[0;34m=\u001b[0m \u001b[0mname\u001b[0m\u001b[0;34m\u001b[0m\u001b[0m\n",
      "\u001b[0;32m/usr/lib64/python3.6/site-packages/pandas/io/parsers.py\u001b[0m in \u001b[0;36m_read\u001b[0;34m(filepath_or_buffer, kwds)\u001b[0m\n\u001b[1;32m    403\u001b[0m \u001b[0;34m\u001b[0m\u001b[0m\n\u001b[1;32m    404\u001b[0m     \u001b[0;31m# Create the parser.\u001b[0m\u001b[0;34m\u001b[0m\u001b[0;34m\u001b[0m\u001b[0m\n\u001b[0;32m--> 405\u001b[0;31m     \u001b[0mparser\u001b[0m \u001b[0;34m=\u001b[0m \u001b[0mTextFileReader\u001b[0m\u001b[0;34m(\u001b[0m\u001b[0mfilepath_or_buffer\u001b[0m\u001b[0;34m,\u001b[0m \u001b[0;34m**\u001b[0m\u001b[0mkwds\u001b[0m\u001b[0;34m)\u001b[0m\u001b[0;34m\u001b[0m\u001b[0m\n\u001b[0m\u001b[1;32m    406\u001b[0m \u001b[0;34m\u001b[0m\u001b[0m\n\u001b[1;32m    407\u001b[0m     \u001b[0;32mif\u001b[0m \u001b[0mchunksize\u001b[0m \u001b[0;32mor\u001b[0m \u001b[0miterator\u001b[0m\u001b[0;34m:\u001b[0m\u001b[0;34m\u001b[0m\u001b[0m\n",
      "\u001b[0;32m/usr/lib64/python3.6/site-packages/pandas/io/parsers.py\u001b[0m in \u001b[0;36m__init__\u001b[0;34m(self, f, engine, **kwds)\u001b[0m\n\u001b[1;32m    762\u001b[0m             \u001b[0mself\u001b[0m\u001b[0;34m.\u001b[0m\u001b[0moptions\u001b[0m\u001b[0;34m[\u001b[0m\u001b[0;34m'has_index_names'\u001b[0m\u001b[0;34m]\u001b[0m \u001b[0;34m=\u001b[0m \u001b[0mkwds\u001b[0m\u001b[0;34m[\u001b[0m\u001b[0;34m'has_index_names'\u001b[0m\u001b[0;34m]\u001b[0m\u001b[0;34m\u001b[0m\u001b[0m\n\u001b[1;32m    763\u001b[0m \u001b[0;34m\u001b[0m\u001b[0m\n\u001b[0;32m--> 764\u001b[0;31m         \u001b[0mself\u001b[0m\u001b[0;34m.\u001b[0m\u001b[0m_make_engine\u001b[0m\u001b[0;34m(\u001b[0m\u001b[0mself\u001b[0m\u001b[0;34m.\u001b[0m\u001b[0mengine\u001b[0m\u001b[0;34m)\u001b[0m\u001b[0;34m\u001b[0m\u001b[0m\n\u001b[0m\u001b[1;32m    765\u001b[0m \u001b[0;34m\u001b[0m\u001b[0m\n\u001b[1;32m    766\u001b[0m     \u001b[0;32mdef\u001b[0m \u001b[0mclose\u001b[0m\u001b[0;34m(\u001b[0m\u001b[0mself\u001b[0m\u001b[0;34m)\u001b[0m\u001b[0;34m:\u001b[0m\u001b[0;34m\u001b[0m\u001b[0m\n",
      "\u001b[0;32m/usr/lib64/python3.6/site-packages/pandas/io/parsers.py\u001b[0m in \u001b[0;36m_make_engine\u001b[0;34m(self, engine)\u001b[0m\n\u001b[1;32m    983\u001b[0m     \u001b[0;32mdef\u001b[0m \u001b[0m_make_engine\u001b[0m\u001b[0;34m(\u001b[0m\u001b[0mself\u001b[0m\u001b[0;34m,\u001b[0m \u001b[0mengine\u001b[0m\u001b[0;34m=\u001b[0m\u001b[0;34m'c'\u001b[0m\u001b[0;34m)\u001b[0m\u001b[0;34m:\u001b[0m\u001b[0;34m\u001b[0m\u001b[0m\n\u001b[1;32m    984\u001b[0m         \u001b[0;32mif\u001b[0m \u001b[0mengine\u001b[0m \u001b[0;34m==\u001b[0m \u001b[0;34m'c'\u001b[0m\u001b[0;34m:\u001b[0m\u001b[0;34m\u001b[0m\u001b[0m\n\u001b[0;32m--> 985\u001b[0;31m             \u001b[0mself\u001b[0m\u001b[0;34m.\u001b[0m\u001b[0m_engine\u001b[0m \u001b[0;34m=\u001b[0m \u001b[0mCParserWrapper\u001b[0m\u001b[0;34m(\u001b[0m\u001b[0mself\u001b[0m\u001b[0;34m.\u001b[0m\u001b[0mf\u001b[0m\u001b[0;34m,\u001b[0m \u001b[0;34m**\u001b[0m\u001b[0mself\u001b[0m\u001b[0;34m.\u001b[0m\u001b[0moptions\u001b[0m\u001b[0;34m)\u001b[0m\u001b[0;34m\u001b[0m\u001b[0m\n\u001b[0m\u001b[1;32m    986\u001b[0m         \u001b[0;32melse\u001b[0m\u001b[0;34m:\u001b[0m\u001b[0;34m\u001b[0m\u001b[0m\n\u001b[1;32m    987\u001b[0m             \u001b[0;32mif\u001b[0m \u001b[0mengine\u001b[0m \u001b[0;34m==\u001b[0m \u001b[0;34m'python'\u001b[0m\u001b[0;34m:\u001b[0m\u001b[0;34m\u001b[0m\u001b[0m\n",
      "\u001b[0;32m/usr/lib64/python3.6/site-packages/pandas/io/parsers.py\u001b[0m in \u001b[0;36m__init__\u001b[0;34m(self, src, **kwds)\u001b[0m\n\u001b[1;32m   1603\u001b[0m         \u001b[0mkwds\u001b[0m\u001b[0;34m[\u001b[0m\u001b[0;34m'allow_leading_cols'\u001b[0m\u001b[0;34m]\u001b[0m \u001b[0;34m=\u001b[0m \u001b[0mself\u001b[0m\u001b[0;34m.\u001b[0m\u001b[0mindex_col\u001b[0m \u001b[0;32mis\u001b[0m \u001b[0;32mnot\u001b[0m \u001b[0;32mFalse\u001b[0m\u001b[0;34m\u001b[0m\u001b[0m\n\u001b[1;32m   1604\u001b[0m \u001b[0;34m\u001b[0m\u001b[0m\n\u001b[0;32m-> 1605\u001b[0;31m         \u001b[0mself\u001b[0m\u001b[0;34m.\u001b[0m\u001b[0m_reader\u001b[0m \u001b[0;34m=\u001b[0m \u001b[0mparsers\u001b[0m\u001b[0;34m.\u001b[0m\u001b[0mTextReader\u001b[0m\u001b[0;34m(\u001b[0m\u001b[0msrc\u001b[0m\u001b[0;34m,\u001b[0m \u001b[0;34m**\u001b[0m\u001b[0mkwds\u001b[0m\u001b[0;34m)\u001b[0m\u001b[0;34m\u001b[0m\u001b[0m\n\u001b[0m\u001b[1;32m   1606\u001b[0m \u001b[0;34m\u001b[0m\u001b[0m\n\u001b[1;32m   1607\u001b[0m         \u001b[0;31m# XXX\u001b[0m\u001b[0;34m\u001b[0m\u001b[0;34m\u001b[0m\u001b[0m\n",
      "\u001b[0;32mpandas/_libs/parsers.pyx\u001b[0m in \u001b[0;36mpandas._libs.parsers.TextReader.__cinit__ (pandas/_libs/parsers.c:4209)\u001b[0;34m()\u001b[0m\n",
      "\u001b[0;32mpandas/_libs/parsers.pyx\u001b[0m in \u001b[0;36mpandas._libs.parsers.TextReader._setup_parser_source (pandas/_libs/parsers.c:8873)\u001b[0;34m()\u001b[0m\n",
      "\u001b[0;31mFileNotFoundError\u001b[0m: File b'intracity_fare_train.csv' does not exist"
     ]
    }
   ],
   "source": [
    "# importing data\n",
    "train = pd.read_csv('intracity_fare_train.csv')\n",
    "test = pd.read_csv('intracity_fare_test.csv')\n",
    "id_vec = np.array(test.loc[:, test.columns == 'ID'])"
   ]
  }
 ],
 "metadata": {
  "kernelspec": {
   "display_name": "Python 3",
   "language": "python",
   "name": "python3"
  },
  "language_info": {
   "codemirror_mode": {
    "name": "ipython",
    "version": 3
   },
   "file_extension": ".py",
   "mimetype": "text/x-python",
   "name": "python",
   "nbconvert_exporter": "python",
   "pygments_lexer": "ipython3",
   "version": "3.6.2"
  }
 },
 "nbformat": 4,
 "nbformat_minor": 2
}
