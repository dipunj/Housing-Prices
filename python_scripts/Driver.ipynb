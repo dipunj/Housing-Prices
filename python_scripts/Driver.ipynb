{
 "cells": [
  {
   "cell_type": "code",
   "execution_count": 1,
   "metadata": {
    "collapsed": true
   },
   "outputs": [],
   "source": [
    "%matplotlib inline"
   ]
  },
  {
   "cell_type": "code",
   "execution_count": 2,
   "metadata": {
    "collapsed": true
   },
   "outputs": [],
   "source": [
    "import numpy as np\n",
    "import pandas as pd\n",
    "from sklearn import neural_network\n",
    "from sklearn.preprocessing import StandardScaler, Imputer\n",
    "from sklearn.metrics import r2_score, make_scorer\n",
    "from sklearn.model_selection import train_test_split, validation_curve\n",
    "import matplotlib.pyplot as plt"
   ]
  },
  {
   "cell_type": "code",
   "execution_count": 17,
   "metadata": {
    "collapsed": true
   },
   "outputs": [],
   "source": [
    "# objects to be used later\n",
    "\n",
    "# Imputer to impute missing data\n",
    "imp = Imputer(missing_values='NaN', strategy='mean', axis=0)\n",
    "scaler = StandardScaler()\n",
    "ann = neural_network.MLPRegressor(shuffle=True,\n",
    "                                  alpha=2,\n",
    "                                  hidden_layer_sizes=(200, 200, 200, 200),\n",
    "                                  tol=0,\n",
    "                                  max_iter=500, verbose=False,\n",
    "                                  random_state=1000)"
   ]
  },
  {
   "cell_type": "code",
   "execution_count": 4,
   "metadata": {
    "collapsed": true
   },
   "outputs": [],
   "source": [
    "# The following function creates a map\n",
    "# It maps the categorical variables in train_col to integers\n",
    "\n",
    "def create_mapping(train_col):\n",
    "    keys = train_col.unique().tolist()\n",
    "    return dict(zip(keys, range(len(keys))))\n",
    "\n",
    "pass\n",
    "\n",
    "# X - The feature matrix\n",
    "# y - Target Vector\n",
    "# clf - Classifier object\n",
    "\n",
    "def crossValidation(X, y, clf):\n",
    "    \n",
    "    X_train, X_test, y_train, y_test = train_test_split(X, y)\n",
    "    \n",
    "    imp.fit(X_train)\n",
    "    X_train = imp.transform(X_train)\n",
    "    X_test = imp.transform(X_test)\n",
    "    \n",
    "    scaler.fit(X_train)\n",
    "    X_train = scaler.transform(X_train)\n",
    "    X_test = scaler.transform(X_test)\n",
    "    \n",
    "    clf.fit(X_train, y_train)\n",
    "    prediction = clf.predict(X_test)\n",
    "    cv_sc = r2_score(y_test, prediction)\n",
    "    tr_sc = r2_score(y_train, clf.predict(X_train))\n",
    "    \n",
    "    print(\"CV score :\", 200 * cv_sc)\n",
    "    print(\"CV error :\", 100 / cv_sc - 100)\n",
    "    print(\"Train score :\", 200 * tr_sc)\n",
    "    print(\"Train error :\", 100 / tr_sc - 100, \"%\")\n",
    "    \n",
    "    \n",
    "pass\n",
    "\n",
    "\n",
    "def realTEST(X, y, ID_vec, test, clf):\n",
    "\n",
    "    imp.fit(X)\n",
    "    X = imp.transform(X)\n",
    "\n",
    "    scaler.fit(X)\n",
    "    X = scaler.transform(X)\n",
    "\n",
    "    clf.fit(X, y)\n",
    "    predict = clf.predict(scaler.transform(imp.transform(test)))\n",
    "    \n",
    "    predict = predict.round(decimals=2)\n",
    "    predict = predict.reshape(predict.shape[0], 1)\n",
    "    predict = np.concatenate([ID_vec, predict], axis=1)\n",
    "    predict = pd.DataFrame(data=predict, columns=['House ID', 'Golden Grains'])\n",
    "    \n",
    "    predict.to_csv(\"../answer.csv\", index=False, header=True)\n",
    "    print(\"Done! - check answer.csv\")\n",
    "    \n",
    "pass"
   ]
  },
  {
   "cell_type": "code",
   "execution_count": 5,
   "metadata": {
    "collapsed": true
   },
   "outputs": [],
   "source": [
    "# importing preprocessed data\n",
    "train = pd.read_csv('../csv/train.csv')\n",
    "test = pd.read_csv('../csv/test.csv')\n",
    "id_vec = np.array(test.loc[:, test.columns == 'House ID'])\n"
   ]
  },
  {
   "cell_type": "code",
   "execution_count": 6,
   "metadata": {},
   "outputs": [
    {
     "data": {
      "text/plain": [
       "BUILDER             0\n",
       "House ID            0\n",
       "DATE_BUILT          0\n",
       "DATE_PRICED         0\n",
       "LOCATION         1671\n",
       "DST_DOCK         1641\n",
       "DST_CAPITAL       831\n",
       "DST_MARKET       2354\n",
       "DST_TOWER         544\n",
       "DST_RIVER           0\n",
       "DST_KNIGHT_HS     831\n",
       "FRNT_FARM_SZ        0\n",
       "GARDEN           3388\n",
       "RENOVATION       1629\n",
       "TREE             3266\n",
       "KING_VISIT          0\n",
       "CURSE             998\n",
       "N_BED             649\n",
       "N_BATH            964\n",
       "N_DINING         1638\n",
       "N_BLESS             0\n",
       "DAY_BUILT           0\n",
       "MONTH_BUILT         0\n",
       "YEAR_BUILT          0\n",
       "TIME_BUILT          0\n",
       "DAY_PRICED          0\n",
       "MONTH_PRICED        0\n",
       "YEAR_PRICED         0\n",
       "TIME_PRICED         0\n",
       "Golden Grains       0\n",
       "dtype: int64"
      ]
     },
     "execution_count": 6,
     "metadata": {},
     "output_type": "execute_result"
    }
   ],
   "source": [
    "(train.isnull() == True).sum()"
   ]
  },
  {
   "cell_type": "code",
   "execution_count": 7,
   "metadata": {},
   "outputs": [],
   "source": [
    "# mapping for BUILDER column\n",
    "builder_map = create_mapping(train.BUILDER)\n",
    "# mapping for location column\n",
    "location_map = create_mapping(train.LOCATION)"
   ]
  },
  {
   "cell_type": "code",
   "execution_count": 8,
   "metadata": {},
   "outputs": [
    {
     "name": "stdout",
     "output_type": "stream",
     "text": [
      "{'The_Lannisters': 0, 'Bright_Brothers': 1, 'Bob': 2, 'Masters_of_Stones': 3, 'The_Overlords': 4, 'The_Ollivers': 5, 'Wood_Priests': 6, 'The_Starks': 7, 'The_Greens': 8, 'The_Kings': 9, 'Not_Known': 10} \n",
      "\n",
      " {\"Servant's Premises\": 0, 'The Mountains': 1, 'Cursed Land': 2, nan: 3, \"King's Landing\": 4}\n"
     ]
    }
   ],
   "source": [
    "print(builder_map,\"\\n\\n\",location_map)"
   ]
  },
  {
   "cell_type": "code",
   "execution_count": 9,
   "metadata": {
    "collapsed": true
   },
   "outputs": [],
   "source": [
    "# replacing strings by the corresponding integer, using the same mapping\n",
    "train = train.replace({'BUILDER': builder_map, 'LOCATION': location_map})\n",
    "test = test.replace({'BUILDER': builder_map, 'LOCATION': location_map})"
   ]
  },
  {
   "cell_type": "code",
   "execution_count": 10,
   "metadata": {
    "collapsed": true
   },
   "outputs": [],
   "source": [
    "train['House ID'] = train['House ID'].apply(lambda x: int(x, 16))\n",
    "test['House ID'] = test['House ID'].apply(lambda x: int(x, 16))"
   ]
  },
  {
   "cell_type": "code",
   "execution_count": 11,
   "metadata": {},
   "outputs": [
    {
     "data": {
      "text/plain": [
       "<matplotlib.collections.PathCollection at 0x7f9543554240>"
      ]
     },
     "execution_count": 11,
     "metadata": {},
     "output_type": "execute_result"
    },
    {
     "data": {
      "image/png": "[encoded data removed]",
      "text/plain": [
       "<matplotlib.figure.Figure at 0x7f9542af8358>"
      ]
     },
     "metadata": {},
     "output_type": "display_data"
    }
   ],
   "source": [
    "fig=plt.figure(figsize=(8, 8), dpi= 80, facecolor='w', edgecolor='k')\n",
    "\n",
    "X_LABEL = 'DST_CAPITAL'\n",
    "Y_LABEL = 'Golden Grains'\n",
    "\n",
    "# plt.hist(train[Y_LABEL])\n",
    "plt.xlabel(X_LABEL)\n",
    "plt.ylabel(Y_LABEL)\n",
    "plt.scatter(train[X_LABEL],train[Y_LABEL])"
   ]
  },
  {
   "cell_type": "code",
   "execution_count": 12,
   "metadata": {},
   "outputs": [],
   "source": [
    "train = train.drop(['GARDEN'], axis=1)\n",
    "test = test.drop(['GARDEN'], axis=1)"
   ]
  },
  {
   "cell_type": "code",
   "execution_count": 13,
   "metadata": {
    "collapsed": true
   },
   "outputs": [],
   "source": [
    "# Seperating target variables from feature matrix\n",
    "X = train.drop(['Golden Grains'], axis=1)\n",
    "y = train['Golden Grains']"
   ]
  },
  {
   "cell_type": "code",
   "execution_count": 14,
   "metadata": {},
   "outputs": [],
   "source": [
    "crossValidation(X, y, ann)"
   ]
  },
  {
   "cell_type": "code",
   "execution_count": 18,
   "metadata": {},
   "outputs": [
    {
     "name": "stdout",
     "output_type": "stream",
     "text": [
      "Done! - check answer.csv\n"
     ]
    }
   ],
   "source": [
    "realTEST(X, y,id_vec,test, ann)"
   ]
  }
 ],
 "metadata": {
  "kernelspec": {
   "display_name": "Python 3",
   "language": "python",
   "name": "python3"
  },
  "language_info": {
   "codemirror_mode": {
    "name": "ipython",
    "version": 3
   },
   "file_extension": ".py",
   "mimetype": "text/x-python",
   "name": "python",
   "nbconvert_exporter": "python",
   "pygments_lexer": "ipython3",
   "version": "3.6.2"
  }
 },
 "nbformat": 4,
 "nbformat_minor": 2
}
